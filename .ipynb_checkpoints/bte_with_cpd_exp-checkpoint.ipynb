{
 "cells": [
  {
   "cell_type": "markdown",
   "metadata": {},
   "source": [
    "# Gaussian XOR and Gaussian R-XOR BTE with CPD Experiment"
   ]
  },
  {
   "cell_type": "markdown",
   "metadata": {},
   "source": [
    "One key goal of progressive learning is to be able to continually improve upon past performance with the introduction of new data, without forgetting too much of the past tasks. This transfer of information can be evaluated using a generalization of Pearl's transfer-benefit ratio (TBR) to evaluate the backward direction.\n",
    "\n",
    "As described in [Vogelstein, et al. (2020)](https://arxiv.org/pdf/2004.12908.pdf), the backward transfer efficiency of task $f_n$ for task $t$ given $n$ samples is:\n",
    "\n",
    "$$BTE^t (f_n) := \\mathbb{E} [R^t (f_n^{<t} )/R^t (f_n)]$$\n",
    "\n",
    "If $BTE^t(f_n)>1$, the algorithm demonstrates positive backward transfer, i.e. data from the current task has been used to improve performance on past tasks.\n",
    "\n",
    "Progressive learning in a simple environment can therefore be demonstrated using two simple tasks: Gaussian XOR and Gaussian R-XOR. Here, backward transfer efficiency is the ratio of generalization errors for XOR. These two tasks share the same discriminant boundaries, so learning can be easily transferred between them. However, as we have seen in the original Guassian XOR and Gaussian R-XOR Experiment, backward transfer efficiency can suffer if the new task differs too much from past tasks. \n",
    "\n",
    "In this experiment, we will try to mitigate the detriment of adding new tasks that are too different by adapting the domain of the new task to the domain of the old task, but maintaining the uniquely sampled distribution of the new task. To accomplish this, we will be using the Coherent Point Drift algorithm described in [Myronenko & Song (2009)](https://arxiv.org/abs/0905.2635) to adapt the new tasks to the old tasks through an affine registration. "
   ]
  },
  {
   "cell_type": "code",
   "execution_count": 5,
   "metadata": {},
   "outputs": [
    {
     "ename": "ModuleNotFoundError",
     "evalue": "No module named 'functions'",
     "output_type": "error",
     "traceback": [
      "\u001b[0;31m---------------------------------------------------------------------------\u001b[0m",
      "\u001b[0;31mModuleNotFoundError\u001b[0m                       Traceback (most recent call last)",
      "\u001b[0;32m<ipython-input-5-8020ed9fc66c>\u001b[0m in \u001b[0;36m<module>\u001b[0;34m\u001b[0m\n\u001b[1;32m      1\u001b[0m \u001b[0;32mimport\u001b[0m \u001b[0mnumpy\u001b[0m \u001b[0;32mas\u001b[0m \u001b[0mnp\u001b[0m\u001b[0;34m\u001b[0m\u001b[0;34m\u001b[0m\u001b[0m\n\u001b[1;32m      2\u001b[0m \u001b[0;34m\u001b[0m\u001b[0m\n\u001b[0;32m----> 3\u001b[0;31m \u001b[0;32mimport\u001b[0m \u001b[0mfunctions\u001b[0m\u001b[0;34m.\u001b[0m\u001b[0mbte_with_cpd_functions\u001b[0m \u001b[0;32mas\u001b[0m \u001b[0mfn\u001b[0m\u001b[0;34m\u001b[0m\u001b[0;34m\u001b[0m\u001b[0m\n\u001b[0m\u001b[1;32m      4\u001b[0m \u001b[0;32mfrom\u001b[0m \u001b[0mproglearn\u001b[0m\u001b[0;34m.\u001b[0m\u001b[0msims\u001b[0m \u001b[0;32mimport\u001b[0m \u001b[0mgenerate_gaussian_parity\u001b[0m\u001b[0;34m\u001b[0m\u001b[0;34m\u001b[0m\u001b[0m\n",
      "\u001b[0;31mModuleNotFoundError\u001b[0m: No module named 'functions'"
     ]
    }
   ],
   "source": [
    "import numpy as np\n",
    "\n",
    "import functions.bte_with_cpd_functions as fn\n",
    "from proglearn.sims import generate_gaussian_parity"
   ]
  },
  {
   "cell_type": "markdown",
   "metadata": {},
   "source": [
    "**Note:** This notebook tutorial uses functions stored externally within `functions/xor_rxor_functions.py`, to simplify presentation of code. These functions are imported above, along with other libraries."
   ]
  },
  {
   "cell_type": "markdown",
   "metadata": {},
   "source": [
    "## Classification Problem\n",
    "\n",
    "First, let's visualize Gaussian XOR, Gaussian R-XOR, and Gaussian R-XOR adapted to XOR.\n",
    "\n",
    "Gaussian XOR is a two-class classification problem, where...\n",
    "- Class 0 is drawn from two Gaussians with $\\mu = \\pm [0.5, 0.5]^T$ and $\\sigma^2 = I$.\n",
    "- Class 1 is drawn from two Gaussians with $\\mu = \\pm [0.5, -0.5]^T$ and $\\sigma^2 = I$.\n",
    "\n",
    "Gaussian R-XOR has the same distribution as Gaussian XOR, but with the class labels at different degree angle\n",
    "\n",
    "Gaussian R-XOR adapted to XOR will be an unrotated version of the above R-XOR version to match XOR. "
   ]
  },
  {
   "cell_type": "markdown",
   "metadata": {},
   "source": [
    "Within the proglearn package, we can make use of the simulations within the `sims` folder to generate simulated data. The `generate_gaussian_parity` function within `gaussian_sim.py` can be used to create the Gaussian XOR and R-XOR problems. Let's generate data and plot it to see what these problems look like!"
   ]
  },
  {
   "cell_type": "code",
   "execution_count": 4,
   "metadata": {},
   "outputs": [
    {
     "ename": "NameError",
     "evalue": "name 'generate_gaussian_parity' is not defined",
     "output_type": "error",
     "traceback": [
      "\u001b[0;31m---------------------------------------------------------------------------\u001b[0m",
      "\u001b[0;31mNameError\u001b[0m                                 Traceback (most recent call last)",
      "\u001b[0;32m<ipython-input-4-2b2e51cbaac3>\u001b[0m in \u001b[0;36m<module>\u001b[0;34m\u001b[0m\n\u001b[0;32m----> 1\u001b[0;31m \u001b[0mX_xor\u001b[0m\u001b[0;34m,\u001b[0m \u001b[0my_xor\u001b[0m \u001b[0;34m=\u001b[0m \u001b[0mgenerate_gaussian_parity\u001b[0m\u001b[0;34m(\u001b[0m\u001b[0;36m1000\u001b[0m\u001b[0;34m)\u001b[0m\u001b[0;34m\u001b[0m\u001b[0;34m\u001b[0m\u001b[0m\n\u001b[0m\u001b[1;32m      2\u001b[0m \u001b[0mX_rxor\u001b[0m\u001b[0;34m,\u001b[0m \u001b[0my_rxor\u001b[0m \u001b[0;34m=\u001b[0m \u001b[0mgenerate_gaussian_parity\u001b[0m\u001b[0;34m(\u001b[0m\u001b[0;36m1000\u001b[0m\u001b[0;34m,\u001b[0m \u001b[0mangle_params\u001b[0m\u001b[0;34m=\u001b[0m\u001b[0mnp\u001b[0m\u001b[0;34m.\u001b[0m\u001b[0mpi\u001b[0m\u001b[0;34m/\u001b[0m\u001b[0;36m4\u001b[0m\u001b[0;34m)\u001b[0m\u001b[0;34m\u001b[0m\u001b[0;34m\u001b[0m\u001b[0m\n\u001b[1;32m      3\u001b[0m \u001b[0mX_axor\u001b[0m\u001b[0;34m,\u001b[0m \u001b[0my_axor\u001b[0m \u001b[0;34m=\u001b[0m \u001b[0mcpd_reg\u001b[0m\u001b[0;34m(\u001b[0m\u001b[0mX_rxor\u001b[0m\u001b[0;34m.\u001b[0m\u001b[0mcopy\u001b[0m\u001b[0;34m(\u001b[0m\u001b[0;34m)\u001b[0m\u001b[0;34m,\u001b[0m \u001b[0mX_xor\u001b[0m\u001b[0;34m.\u001b[0m\u001b[0mcopy\u001b[0m\u001b[0;34m(\u001b[0m\u001b[0;34m)\u001b[0m\u001b[0;34m,\u001b[0m \u001b[0mmax_iter\u001b[0m\u001b[0;34m=\u001b[0m\u001b[0;36m50\u001b[0m\u001b[0;34m)\u001b[0m\u001b[0;34m,\u001b[0m \u001b[0my_rxor\u001b[0m\u001b[0;34m.\u001b[0m\u001b[0mcopy\u001b[0m\u001b[0;34m(\u001b[0m\u001b[0;34m)\u001b[0m\u001b[0;34m\u001b[0m\u001b[0;34m\u001b[0m\u001b[0m\n",
      "\u001b[0;31mNameError\u001b[0m: name 'generate_gaussian_parity' is not defined"
     ]
    }
   ],
   "source": [
    "X_xor, y_xor = generate_gaussian_parity(1000)\n",
    "X_rxor, y_rxor = generate_gaussian_parity(1000, angle_params=np.pi/4)\n",
    "X_axor, y_axor = cpd_reg(X_rxor.copy(), X_xor.copy(), max_iter=50), y_rxor.copy()"
   ]
  },
  {
   "cell_type": "code",
   "execution_count": null,
   "metadata": {},
   "outputs": [],
   "source": []
  }
 ],
 "metadata": {
  "kernelspec": {
   "display_name": "Python 3",
   "language": "python",
   "name": "python3"
  },
  "language_info": {
   "codemirror_mode": {
    "name": "ipython",
    "version": 3
   },
   "file_extension": ".py",
   "mimetype": "text/x-python",
   "name": "python",
   "nbconvert_exporter": "python",
   "pygments_lexer": "ipython3",
   "version": "3.7.9"
  }
 },
 "nbformat": 4,
 "nbformat_minor": 4
}
