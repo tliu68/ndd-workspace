{
 "cells": [
  {
   "cell_type": "code",
   "execution_count": 1,
   "id": "signed-election",
   "metadata": {},
   "outputs": [],
   "source": [
    "import numpy as np\n",
    "\n",
    "import matplotlib.pylab as pl\n",
    "import matplotlib.pyplot as plt\n",
    "from math import log2, ceil\n",
    "import seaborn as sns\n",
    "import pandas as pd\n",
    "\n",
    "from sklearn.decomposition import PCA\n",
    "from matplotlib.colors import ListedColormap\n",
    "cmap_light = ListedColormap(['#FFBBBB', '#BBFFBB', '#BBBBFF'])\n",
    "cmap_bold = ListedColormap(['#CC0000', '#00AA00', '#0000CC'])"
   ]
  },
  {
   "cell_type": "code",
   "execution_count": 2,
   "id": "finite-cause",
   "metadata": {},
   "outputs": [
    {
     "ename": "ModuleNotFoundError",
     "evalue": "No module named 'functions'",
     "output_type": "error",
     "traceback": [
      "\u001b[1;31m---------------------------------------------------------------------------\u001b[0m",
      "\u001b[1;31mModuleNotFoundError\u001b[0m                       Traceback (most recent call last)",
      "\u001b[1;32m<ipython-input-2-8fd0aa7b19ff>\u001b[0m in \u001b[0;36m<module>\u001b[1;34m\u001b[0m\n\u001b[1;32m----> 1\u001b[1;33m \u001b[1;32mimport\u001b[0m \u001b[0mfunctions\u001b[0m\u001b[1;33m.\u001b[0m\u001b[0mcc18_with_cpd_functions\u001b[0m \u001b[1;32mas\u001b[0m \u001b[0mfn\u001b[0m\u001b[1;33m\u001b[0m\u001b[1;33m\u001b[0m\u001b[0m\n\u001b[0m\u001b[0;32m      2\u001b[0m \u001b[1;32mfrom\u001b[0m \u001b[0mproglearn\u001b[0m\u001b[1;33m.\u001b[0m\u001b[0msims\u001b[0m \u001b[1;32mimport\u001b[0m \u001b[0mgenerate_gaussian_parity\u001b[0m\u001b[1;33m\u001b[0m\u001b[1;33m\u001b[0m\u001b[0m\n\u001b[0;32m      3\u001b[0m \u001b[1;32mfrom\u001b[0m \u001b[0mproglearn\u001b[0m\u001b[1;33m.\u001b[0m\u001b[0mprogressive_learner\u001b[0m \u001b[1;32mimport\u001b[0m \u001b[0mProgressiveLearner\u001b[0m\u001b[1;33m\u001b[0m\u001b[1;33m\u001b[0m\u001b[0m\n\u001b[0;32m      4\u001b[0m \u001b[1;32mfrom\u001b[0m \u001b[0mproglearn\u001b[0m\u001b[1;33m.\u001b[0m\u001b[0mdeciders\u001b[0m \u001b[1;32mimport\u001b[0m \u001b[0mSimpleArgmaxAverage\u001b[0m\u001b[1;33m\u001b[0m\u001b[1;33m\u001b[0m\u001b[0m\n\u001b[0;32m      5\u001b[0m from proglearn.transformers import (\n",
      "\u001b[1;31mModuleNotFoundError\u001b[0m: No module named 'functions'"
     ]
    }
   ],
   "source": [
    "import functions.cc18_with_cpd_functions as fn\n",
    "from proglearn.sims import generate_gaussian_parity\n",
    "from proglearn.progressive_learner import ProgressiveLearner\n",
    "from proglearn.deciders import SimpleArgmaxAverage\n",
    "from proglearn.transformers import (\n",
    "    TreeClassificationTransformer,\n",
    "    NeuralClassificationTransformer,\n",
    ")\n",
    "from proglearn.voters import TreeClassificationVoter, KNNClassificationVoter\n",
    "from proglearn.sims import generate_gaussian_parity"
   ]
  },
  {
   "cell_type": "markdown",
   "id": "unknown-illustration",
   "metadata": {},
   "source": [
    "## Import"
   ]
  },
  {
   "cell_type": "code",
   "execution_count": null,
   "id": "recreational-heart",
   "metadata": {},
   "outputs": [],
   "source": [
    "df = pd.read_csv('php0iVrYT.csv');\n",
    "\n",
    "data = df.values[:, :4].astype(int);\n",
    "target = df.values[:, 4].astype(int);\n",
    "d_name = np.array(df.columns[:4]);\n",
    "t_name = np.array(df.columns[4]);"
   ]
  },
  {
   "cell_type": "markdown",
   "id": "stable-passing",
   "metadata": {},
   "source": [
    "## Visualization"
   ]
  },
  {
   "cell_type": "code",
   "execution_count": null,
   "id": "editorial-colors",
   "metadata": {},
   "outputs": [],
   "source": [
    "#plot two features\n",
    "i, j = 0, 1;\n",
    "\n",
    "plt.figure(figsize=(10,5));\n",
    "plt.scatter(data[:,i], data[:,j], edgecolor='none', c=target);\n",
    "\n",
    "plt.xlabel(d_name[i]);\n",
    "plt.ylabel(d_name[j]);\n",
    "plt.title(d_name[i] + ' vs ' + d_name[j]);"
   ]
  },
  {
   "cell_type": "code",
   "execution_count": null,
   "id": "likely-pursuit",
   "metadata": {},
   "outputs": [],
   "source": [
    "#explained variance\n",
    "from sklearn.decomposition import PCA\n",
    "\n",
    "X = data.copy();\n",
    "pca = PCA(n_components = 3, whiten = False);\n",
    "X = pca.fit_transform(X);\n",
    "\n",
    "E, L = pca.components_.T, pca.explained_variance_\n",
    "cl = np.cumsum(L);\n",
    "\n",
    "plt.subplot(211);\n",
    "plt.plot(L,'o-');\n",
    "plt.ylabel('Eigenvalues');\n",
    "\n",
    "plt.subplot(212);\n",
    "plt.plot(cl/cl[-1],'o-r');\n",
    "plt.ylabel('Total Variance');"
   ]
  },
  {
   "cell_type": "markdown",
   "id": "editorial-tower",
   "metadata": {},
   "source": [
    "# Functions"
   ]
  },
  {
   "cell_type": "code",
   "execution_count": null,
   "id": "broke-ethnic",
   "metadata": {},
   "outputs": [],
   "source": [
    "def rotate_dist(X, theta=0, dim=[0,1]):\n",
    "    #dimensions to rotate\n",
    "    Z = X[:, dim]\n",
    "    \n",
    "    #rotation\n",
    "    c, s = np.cos(theta), np.sin(theta)\n",
    "    R = np.array([[c, -s], [s, c]])\n",
    "    Z = Z @ R\n",
    "    \n",
    "    #recombine\n",
    "    X[:, dim] = Z\n",
    "    \n",
    "    return X"
   ]
  },
  {
   "cell_type": "code",
   "execution_count": null,
   "id": "defensive-glasgow",
   "metadata": {},
   "outputs": [],
   "source": [
    "def shear_dist(X, s=0, dim=[0,1]):\n",
    "    #dimensions to shear\n",
    "    Z = X[:, dim]\n",
    "    \n",
    "    #shear\n",
    "    R = np.array([[1, s], [s, 1]])\n",
    "    Z = Z @ R\n",
    "    \n",
    "    #recombine\n",
    "    X[:, dim] = Z\n",
    "    \n",
    "    return X"
   ]
  },
  {
   "cell_type": "code",
   "execution_count": null,
   "id": "spread-career",
   "metadata": {},
   "outputs": [],
   "source": [
    "def split_task(X, y):\n",
    "    D = np.hstack((X, y))\n",
    "    np.random.shuffle(D)\n",
    "    \n",
    "    n,_ = np.shape(D)\n",
    "    m = int(n/2)\n",
    "    D1 = D[:m, :]\n",
    "    D2 = D[m:, :]\n",
    "    \n",
    "    X1 = D1[:, :-1]\n",
    "    X2 = D2[:, :-1]\n",
    "    \n",
    "    y1 = D1[:, -1]\n",
    "    y2 = D2[:, -1]\n",
    "    \n",
    "    return X1, y1, X2, y2"
   ]
  },
  {
   "cell_type": "code",
   "execution_count": null,
   "id": "multiple-hughes",
   "metadata": {},
   "outputs": [],
   "source": [
    "def sample_cc18(frac=0.6, angle_params=0, shear_params=0, dimension=[0,1]):\n",
    "    df = pd.read_csv('php0iVrYT.csv')\n",
    "\n",
    "    data = df.values.astype(int)\n",
    "    np.random.shuffle(data)\n",
    "    \n",
    "    n,d = np.shape(data)\n",
    "    m = int(frac * n)\n",
    "    \n",
    "    X = data[:m, :d-1]\n",
    "    y = data[:m, d-1]\n",
    "    \n",
    "    pca = PCA(n_components = 3, whiten = False)\n",
    "    X = pca.fit_transform(X)\n",
    "    \n",
    "    X = rotate_dist(X, angle_params, dimension)\n",
    "    X = shear_dist(X, shear_params, dimension)\n",
    "    \n",
    "    return X, y"
   ]
  },
  {
   "cell_type": "code",
   "execution_count": null,
   "id": "ready-algorithm",
   "metadata": {},
   "outputs": [],
   "source": [
    "X1, y1 = sample_cc18(frac=0.6)\n",
    "X2, y2 = sample_cc18(frac=0.6, angle_params=np.pi/4, shear_params=0)\n",
    "X3, y3 = sample_cc18(frac=0.6, angle_params=0, shear_params=1/4)\n",
    "\n",
    "plt.figure(figsize=(8, 20))\n",
    "plt.subplot(311)\n",
    "plt.scatter(X1[:,0], X1[:,1], c=y1, s=50)\n",
    "plt.title('Task 1');\n",
    "\n",
    "plt.subplot(312)\n",
    "plt.scatter(X2[:,0], X2[:,1], c=y2, s=50)\n",
    "plt.title('Task 2 (rotation)');\n",
    "\n",
    "plt.subplot(313)\n",
    "plt.scatter(X3[:,0], X3[:,1], c=y3, s=50)\n",
    "plt.title('Task 3 (shear)');"
   ]
  },
  {
   "cell_type": "code",
   "execution_count": null,
   "id": "organic-missile",
   "metadata": {},
   "outputs": [],
   "source": [
    "angle_sweep = range(0,181,10)\n",
    "task1_frac = 0.6\n",
    "task2_frac = 0.6\n",
    "mc_rep = 250"
   ]
  },
  {
   "cell_type": "code",
   "execution_count": null,
   "id": "coupled-pierre",
   "metadata": {},
   "outputs": [],
   "source": [
    "mean_te1 = fn.bte_v_angle(angle_sweep, task1_sample, task2_sample, mc_rep, register_cpd=False, register_otp=False)"
   ]
  },
  {
   "cell_type": "code",
   "execution_count": null,
   "id": "qualified-taylor",
   "metadata": {},
   "outputs": [],
   "source": [
    "mean_te2 = fn.bte_v_angle(angle_sweep, task1_sample, task2_sample, mc_rep, register_cpd=True)"
   ]
  },
  {
   "cell_type": "code",
   "execution_count": null,
   "id": "temporal-candy",
   "metadata": {},
   "outputs": [],
   "source": [
    "mean_te3 = fn.bte_v_angle(angle_sweep, task1_sample, task2_sample, mc_rep, register_otp=True)"
   ]
  },
  {
   "cell_type": "code",
   "execution_count": null,
   "id": "arabic-slave",
   "metadata": {},
   "outputs": [],
   "source": [
    "mean_te4 = fn.bte_v_angle(angle_sweep, task1_sample, task2_sample, mc_rep, register_icp=True)"
   ]
  },
  {
   "cell_type": "code",
   "execution_count": null,
   "id": "lesser-syracuse",
   "metadata": {},
   "outputs": [],
   "source": [
    "fontsize=24\n",
    "fig, ax = plt.subplots(1, 1, figsize=(16, 16))\n",
    "task = [\"No adaptation\", \"ICP\", \"CPD\", \"OT-exact\", \"OT-IT\"]\n",
    "ax.plot(angle_sweep, mean_te1, linewidth=3, label=task[0])\n",
    "ax.plot(angle_sweep, mean_te4, linewidth=3, label=task[1])\n",
    "ax.plot(angle_sweep, mean_te2, linewidth=3, label=task[2])\n",
    "ax.plot(angle_sweep, mean_te3, linewidth=3, label=task[4])\n",
    "ax.set_xticks(range(0, 181, 10))\n",
    "ax.hlines(1, 0, 180, colors=\"gray\", linestyles=\"dashed\", linewidth=1.5)\n",
    "ax.set_xlabel(\"Angle of Shear (Degrees)\",fontsize=fontsize)\n",
    "ax.set_ylabel(\"Backward Transfer Efficiency (CC18 w/Shear)\",fontsize=fontsize)\n",
    "ax.legend(loc=\"lower left\", fontsize=20, frameon=False)\n",
    "\n",
    "right_side = ax.spines[\"right\"]\n",
    "right_side.set_visible(False)\n",
    "top_side = ax.spines[\"top\"]\n",
    "top_side.set_visible(False)"
   ]
  }
 ],
 "metadata": {
  "kernelspec": {
   "display_name": "Python 3",
   "language": "python",
   "name": "python3"
  },
  "language_info": {
   "codemirror_mode": {
    "name": "ipython",
    "version": 3
   },
   "file_extension": ".py",
   "mimetype": "text/x-python",
   "name": "python",
   "nbconvert_exporter": "python",
   "pygments_lexer": "ipython3",
   "version": "3.7.9"
  }
 },
 "nbformat": 4,
 "nbformat_minor": 5
}
